{
 "cells": [
  {
   "cell_type": "code",
   "execution_count": 3,
   "id": "f5f7ab95",
   "metadata": {},
   "outputs": [
    {
     "name": "stdout",
     "output_type": "stream",
     "text": [
      "Requirement already satisfied: snowflake in c:\\users\\elham\\anaconda3\\lib\\site-packages (1.4.0)\n",
      "Requirement already satisfied: snowflake-core==1.4.0 in c:\\users\\elham\\anaconda3\\lib\\site-packages (from snowflake) (1.4.0)\n",
      "Requirement already satisfied: snowflake-legacy in c:\\users\\elham\\anaconda3\\lib\\site-packages (from snowflake) (1.0.0)\n",
      "Requirement already satisfied: pydantic>=2 in c:\\users\\elham\\anaconda3\\lib\\site-packages (from snowflake-core==1.4.0->snowflake) (2.11.4)\n",
      "Requirement already satisfied: python-dateutil>=2.8.2 in c:\\users\\elham\\anaconda3\\lib\\site-packages (from snowflake-core==1.4.0->snowflake) (2.8.2)\n",
      "Requirement already satisfied: pyyaml in c:\\users\\elham\\anaconda3\\lib\\site-packages (from snowflake-core==1.4.0->snowflake) (6.0)\n",
      "Requirement already satisfied: requests in c:\\users\\elham\\anaconda3\\lib\\site-packages (from snowflake-core==1.4.0->snowflake) (2.31.0)\n",
      "Requirement already satisfied: snowflake-connector-python in c:\\users\\elham\\anaconda3\\lib\\site-packages (from snowflake-core==1.4.0->snowflake) (3.15.0)\n",
      "Requirement already satisfied: urllib3 in c:\\users\\elham\\anaconda3\\lib\\site-packages (from snowflake-core==1.4.0->snowflake) (1.26.16)\n",
      "Requirement already satisfied: annotated-types>=0.6.0 in c:\\users\\elham\\anaconda3\\lib\\site-packages (from pydantic>=2->snowflake-core==1.4.0->snowflake) (0.7.0)\n",
      "Requirement already satisfied: pydantic-core==2.33.2 in c:\\users\\elham\\anaconda3\\lib\\site-packages (from pydantic>=2->snowflake-core==1.4.0->snowflake) (2.33.2)\n",
      "Requirement already satisfied: typing-extensions>=4.12.2 in c:\\users\\elham\\anaconda3\\lib\\site-packages (from pydantic>=2->snowflake-core==1.4.0->snowflake) (4.12.2)\n",
      "Requirement already satisfied: typing-inspection>=0.4.0 in c:\\users\\elham\\anaconda3\\lib\\site-packages (from pydantic>=2->snowflake-core==1.4.0->snowflake) (0.4.0)\n",
      "Requirement already satisfied: six>=1.5 in c:\\users\\elham\\anaconda3\\lib\\site-packages (from python-dateutil>=2.8.2->snowflake-core==1.4.0->snowflake) (1.16.0)\n",
      "Requirement already satisfied: charset-normalizer<4,>=2 in c:\\users\\elham\\anaconda3\\lib\\site-packages (from requests->snowflake-core==1.4.0->snowflake) (2.0.4)\n",
      "Requirement already satisfied: idna<4,>=2.5 in c:\\users\\elham\\anaconda3\\lib\\site-packages (from requests->snowflake-core==1.4.0->snowflake) (3.4)\n",
      "Requirement already satisfied: certifi>=2017.4.17 in c:\\users\\elham\\anaconda3\\lib\\site-packages (from requests->snowflake-core==1.4.0->snowflake) (2024.12.14)\n",
      "Requirement already satisfied: asn1crypto<2.0.0,>0.24.0 in c:\\users\\elham\\anaconda3\\lib\\site-packages (from snowflake-connector-python->snowflake-core==1.4.0->snowflake) (1.5.1)\n",
      "Requirement already satisfied: boto3>=1.24 in c:\\users\\elham\\anaconda3\\lib\\site-packages (from snowflake-connector-python->snowflake-core==1.4.0->snowflake) (1.38.8)\n",
      "Requirement already satisfied: botocore>=1.24 in c:\\users\\elham\\anaconda3\\lib\\site-packages (from snowflake-connector-python->snowflake-core==1.4.0->snowflake) (1.38.8)\n",
      "Requirement already satisfied: cffi<2.0.0,>=1.9 in c:\\users\\elham\\anaconda3\\lib\\site-packages (from snowflake-connector-python->snowflake-core==1.4.0->snowflake) (1.15.1)\n",
      "Requirement already satisfied: cryptography>=3.1.0 in c:\\users\\elham\\anaconda3\\lib\\site-packages (from snowflake-connector-python->snowflake-core==1.4.0->snowflake) (41.0.3)\n",
      "Requirement already satisfied: pyOpenSSL<26.0.0,>=22.0.0 in c:\\users\\elham\\anaconda3\\lib\\site-packages (from snowflake-connector-python->snowflake-core==1.4.0->snowflake) (23.2.0)\n",
      "Requirement already satisfied: pyjwt<3.0.0 in c:\\users\\elham\\anaconda3\\lib\\site-packages (from snowflake-connector-python->snowflake-core==1.4.0->snowflake) (2.4.0)\n",
      "Requirement already satisfied: pytz in c:\\users\\elham\\anaconda3\\lib\\site-packages (from snowflake-connector-python->snowflake-core==1.4.0->snowflake) (2023.3.post1)\n",
      "Requirement already satisfied: packaging in c:\\users\\elham\\anaconda3\\lib\\site-packages (from snowflake-connector-python->snowflake-core==1.4.0->snowflake) (23.1)\n",
      "Requirement already satisfied: filelock<4,>=3.5 in c:\\users\\elham\\anaconda3\\lib\\site-packages (from snowflake-connector-python->snowflake-core==1.4.0->snowflake) (3.9.0)\n",
      "Requirement already satisfied: sortedcontainers>=2.4.0 in c:\\users\\elham\\anaconda3\\lib\\site-packages (from snowflake-connector-python->snowflake-core==1.4.0->snowflake) (2.4.0)\n",
      "Requirement already satisfied: platformdirs<5.0.0,>=2.6.0 in c:\\users\\elham\\anaconda3\\lib\\site-packages (from snowflake-connector-python->snowflake-core==1.4.0->snowflake) (3.10.0)\n",
      "Requirement already satisfied: tomlkit in c:\\users\\elham\\anaconda3\\lib\\site-packages (from snowflake-connector-python->snowflake-core==1.4.0->snowflake) (0.11.1)\n",
      "Requirement already satisfied: jmespath<2.0.0,>=0.7.1 in c:\\users\\elham\\anaconda3\\lib\\site-packages (from boto3>=1.24->snowflake-connector-python->snowflake-core==1.4.0->snowflake) (0.10.0)\n",
      "Requirement already satisfied: s3transfer<0.13.0,>=0.12.0 in c:\\users\\elham\\anaconda3\\lib\\site-packages (from boto3>=1.24->snowflake-connector-python->snowflake-core==1.4.0->snowflake) (0.12.0)\n",
      "Requirement already satisfied: pycparser in c:\\users\\elham\\anaconda3\\lib\\site-packages (from cffi<2.0.0,>=1.9->snowflake-connector-python->snowflake-core==1.4.0->snowflake) (2.21)\n"
     ]
    }
   ],
   "source": [
    "!pip install snowflake"
   ]
  },
  {
   "cell_type": "code",
   "execution_count": null,
   "id": "8604afce",
   "metadata": {},
   "outputs": [],
   "source": [
    "import os"
   ]
  },
  {
   "cell_type": "code",
   "execution_count": 4,
   "id": "853151e5",
   "metadata": {},
   "outputs": [
    {
     "name": "stdout",
     "output_type": "stream",
     "text": [
      "Requirement already satisfied: snowflake-connector-python in c:\\users\\elham\\anaconda3\\lib\\site-packages (3.15.0)\n",
      "Requirement already satisfied: asn1crypto<2.0.0,>0.24.0 in c:\\users\\elham\\anaconda3\\lib\\site-packages (from snowflake-connector-python) (1.5.1)\n",
      "Requirement already satisfied: boto3>=1.24 in c:\\users\\elham\\anaconda3\\lib\\site-packages (from snowflake-connector-python) (1.38.8)\n",
      "Requirement already satisfied: botocore>=1.24 in c:\\users\\elham\\anaconda3\\lib\\site-packages (from snowflake-connector-python) (1.38.8)\n",
      "Requirement already satisfied: cffi<2.0.0,>=1.9 in c:\\users\\elham\\anaconda3\\lib\\site-packages (from snowflake-connector-python) (1.15.1)\n",
      "Requirement already satisfied: cryptography>=3.1.0 in c:\\users\\elham\\anaconda3\\lib\\site-packages (from snowflake-connector-python) (41.0.3)\n",
      "Requirement already satisfied: pyOpenSSL<26.0.0,>=22.0.0 in c:\\users\\elham\\anaconda3\\lib\\site-packages (from snowflake-connector-python) (23.2.0)\n",
      "Requirement already satisfied: pyjwt<3.0.0 in c:\\users\\elham\\anaconda3\\lib\\site-packages (from snowflake-connector-python) (2.4.0)\n",
      "Requirement already satisfied: pytz in c:\\users\\elham\\anaconda3\\lib\\site-packages (from snowflake-connector-python) (2023.3.post1)\n",
      "Requirement already satisfied: requests<3.0.0 in c:\\users\\elham\\anaconda3\\lib\\site-packages (from snowflake-connector-python) (2.31.0)\n",
      "Requirement already satisfied: packaging in c:\\users\\elham\\anaconda3\\lib\\site-packages (from snowflake-connector-python) (23.1)\n",
      "Requirement already satisfied: charset_normalizer<4,>=2 in c:\\users\\elham\\anaconda3\\lib\\site-packages (from snowflake-connector-python) (2.0.4)\n",
      "Requirement already satisfied: idna<4,>=2.5 in c:\\users\\elham\\anaconda3\\lib\\site-packages (from snowflake-connector-python) (3.4)\n",
      "Requirement already satisfied: certifi>=2017.4.17 in c:\\users\\elham\\anaconda3\\lib\\site-packages (from snowflake-connector-python) (2024.12.14)\n",
      "Requirement already satisfied: typing_extensions<5,>=4.3 in c:\\users\\elham\\anaconda3\\lib\\site-packages (from snowflake-connector-python) (4.12.2)\n",
      "Requirement already satisfied: filelock<4,>=3.5 in c:\\users\\elham\\anaconda3\\lib\\site-packages (from snowflake-connector-python) (3.9.0)\n",
      "Requirement already satisfied: sortedcontainers>=2.4.0 in c:\\users\\elham\\anaconda3\\lib\\site-packages (from snowflake-connector-python) (2.4.0)\n",
      "Requirement already satisfied: platformdirs<5.0.0,>=2.6.0 in c:\\users\\elham\\anaconda3\\lib\\site-packages (from snowflake-connector-python) (3.10.0)\n",
      "Requirement already satisfied: tomlkit in c:\\users\\elham\\anaconda3\\lib\\site-packages (from snowflake-connector-python) (0.11.1)\n",
      "Requirement already satisfied: jmespath<2.0.0,>=0.7.1 in c:\\users\\elham\\anaconda3\\lib\\site-packages (from boto3>=1.24->snowflake-connector-python) (0.10.0)\n",
      "Requirement already satisfied: s3transfer<0.13.0,>=0.12.0 in c:\\users\\elham\\anaconda3\\lib\\site-packages (from boto3>=1.24->snowflake-connector-python) (0.12.0)\n",
      "Requirement already satisfied: python-dateutil<3.0.0,>=2.1 in c:\\users\\elham\\anaconda3\\lib\\site-packages (from botocore>=1.24->snowflake-connector-python) (2.8.2)\n",
      "Requirement already satisfied: urllib3!=2.2.0,<3,>=1.25.4 in c:\\users\\elham\\anaconda3\\lib\\site-packages (from botocore>=1.24->snowflake-connector-python) (1.26.16)\n",
      "Requirement already satisfied: pycparser in c:\\users\\elham\\anaconda3\\lib\\site-packages (from cffi<2.0.0,>=1.9->snowflake-connector-python) (2.21)\n",
      "Requirement already satisfied: six>=1.5 in c:\\users\\elham\\anaconda3\\lib\\site-packages (from python-dateutil<3.0.0,>=2.1->botocore>=1.24->snowflake-connector-python) (1.16.0)\n"
     ]
    }
   ],
   "source": [
    "!pip install snowflake-connector-python"
   ]
  },
  {
   "cell_type": "code",
   "execution_count": 11,
   "id": "1c928f87",
   "metadata": {},
   "outputs": [
    {
     "name": "stdout",
     "output_type": "stream",
     "text": [
      "Enter your Snowflake password: Elhamyadollahi123\n"
     ]
    }
   ],
   "source": [
    "import os \n",
    "import snowflake.connector\n",
    "\n",
    "# Retrieve credentials from environment variables\n",
    "user=os.getenv('SNOWFLAKE_USER','ELI')\n",
    "password=os.getenv('SNOWFLAKE_PASSWORD')\n",
    "account=os.getenv('SNOWFLAKE_ACCOUNT','bcqgjlk-pm69037')\n",
    "\n",
    "# Prompt for password if not set in environment\n",
    "if not password:\n",
    "    password=input(\"Enter your Snowflake password: \")\n"
   ]
  },
  {
   "cell_type": "code",
   "execution_count": null,
   "id": "b9f57e4b",
   "metadata": {},
   "outputs": [],
   "source": [
    "#commond prompt\n",
    "#set SNOWFLAKE_USER=Eli\n",
    "#set SNOWFLAKE_PASSWORD=YourPassword\n",
    "#set SNOWFLAKE_ACCOUNT=bcqgjlk.pm69037\n",
    "#echo %SNOWFLAKE_USER%\n"
   ]
  },
  {
   "cell_type": "code",
   "execution_count": null,
   "id": "00799466",
   "metadata": {},
   "outputs": [],
   "source": []
  },
  {
   "cell_type": "code",
   "execution_count": 12,
   "id": "5087b766",
   "metadata": {},
   "outputs": [
    {
     "name": "stdout",
     "output_type": "stream",
     "text": [
      "Connected to Snowflake successfully!\n"
     ]
    }
   ],
   "source": [
    "conn = snowflake.connector.connect(\n",
    "        user='Eli',\n",
    "        password=password,\n",
    "        #account='PM69037',\n",
    "        account='bcqgjlk-pm69037',\n",
    "        warehouse='NEW',\n",
    "        database='learn',\n",
    "        schema='learn_schema',\n",
    "        role='ACCOUNTADMIN'\n",
    "    )\n",
    "print(\"Connected to Snowflake successfully!\")\n",
    "\n"
   ]
  },
  {
   "cell_type": "code",
   "execution_count": 18,
   "id": "26874327",
   "metadata": {},
   "outputs": [
    {
     "name": "stdout",
     "output_type": "stream",
     "text": [
      "Stage 'my_stage' created or verified.\n"
     ]
    }
   ],
   "source": [
    "# Create a cursor\n",
    "cursor=conn.cursor()\n",
    "\n",
    "# Ensure the stage exists\n",
    "cursor.execute(\"\"\"\n",
    "CREATE STAGE IF NOT EXISTS my_stage2\n",
    "        COMMENT = 'Stage for loading customer CSV files'\n",
    "\"\"\")\n",
    "\n",
    "print(\"Stage 'my_stage' created or verified.\")"
   ]
  },
  {
   "cell_type": "code",
   "execution_count": 19,
   "id": "9b6eba39",
   "metadata": {},
   "outputs": [
    {
     "name": "stdout",
     "output_type": "stream",
     "text": [
      "Stage permissions granted.\n"
     ]
    }
   ],
   "source": [
    " # Grant permissions to ensure ACCOUNTADMIN can use the stage\n",
    "cursor.execute(\"\"\"\n",
    "GRANT READ,WRITE ON STAGE my_stage2 TO ROLE ACCOUNTADMIN\n",
    "        \n",
    "    \"\"\")\n",
    "print(\"Stage permissions granted.\")\n"
   ]
  },
  {
   "cell_type": "code",
   "execution_count": 27,
   "id": "cf4d1b3e",
   "metadata": {},
   "outputs": [],
   "source": [
    "# Path to the CSV file (using raw string for Windows paths)\n",
    "CSV_FILE_PATH = r'C:\\Users\\elham\\OneDrive\\Desktop\\applic\\SNHOWFLAKE\\new.csv'\n",
    "\n",
    "# Convert backslashes to forward slashes for Snowflake PUT command\n",
    "PUT_FILE_PATH = CSV_FILE_PATH.replace('\\\\', '/')"
   ]
  },
  {
   "cell_type": "code",
   "execution_count": 28,
   "id": "022dc3b6",
   "metadata": {},
   "outputs": [
    {
     "data": {
      "text/plain": [
       "<snowflake.connector.cursor.SnowflakeCursor at 0x2d4f569edd0>"
      ]
     },
     "execution_count": 28,
     "metadata": {},
     "output_type": "execute_result"
    }
   ],
   "source": [
    " cursor.execute(f\"\"\"\n",
    " PUT file://{PUT_FILE_PATH} @my_stage2\n",
    " AUTO_COMPRESS=TRUE\n",
    "            \n",
    "            \"\"\")"
   ]
  },
  {
   "cell_type": "code",
   "execution_count": 29,
   "id": "945a566b",
   "metadata": {},
   "outputs": [
    {
     "data": {
      "text/plain": [
       "<snowflake.connector.cursor.SnowflakeCursor at 0x2d4f569edd0>"
      ]
     },
     "execution_count": 29,
     "metadata": {},
     "output_type": "execute_result"
    }
   ],
   "source": [
    " # List files in the stage\n",
    "cursor.execute(\"LIST @my_stage2\")"
   ]
  },
  {
   "cell_type": "code",
   "execution_count": 30,
   "id": "a7942f5d",
   "metadata": {},
   "outputs": [
    {
     "name": "stdout",
     "output_type": "stream",
     "text": [
      "Files in @my_stage2:\n",
      "('my_stage2/new.csv.gz', 208, '854a1fa4da4005740ea32b3685f20837', 'Mon, 5 May 2025 15:35:04 GMT')\n"
     ]
    }
   ],
   "source": [
    " # List files in the stage\n",
    "cursor.execute(\"LIST @my_stage2\")\n",
    "files = cursor.fetchall()\n",
    "print(\"Files in @my_stage2:\")\n",
    "for file in files:\n",
    "    print(file)\n"
   ]
  },
  {
   "cell_type": "code",
   "execution_count": 32,
   "id": "8e6c5e3a",
   "metadata": {},
   "outputs": [
    {
     "name": "stdout",
     "output_type": "stream",
     "text": [
      "Data loaded into customers table.\n"
     ]
    }
   ],
   "source": [
    "\n",
    " # Load data into the customers table\n",
    "cursor.execute(\"\"\"\n",
    "        COPY INTO customer\n",
    "        FROM @my_stage2/new.csv\n",
    "        FILE_FORMAT = (\n",
    "            TYPE = CSV\n",
    "            SKIP_HEADER = 1\n",
    "            FIELD_OPTIONALLY_ENCLOSED_BY = '\"'\n",
    "            DATE_FORMAT = 'YYYY-MM-DD'\n",
    "        )\n",
    "        ON_ERROR = 'CONTINUE'\n",
    "    \"\"\")\n",
    "print(\"Data loaded into customers table.\")"
   ]
  },
  {
   "cell_type": "code",
   "execution_count": 33,
   "id": "548c9caa",
   "metadata": {},
   "outputs": [
    {
     "name": "stdout",
     "output_type": "stream",
     "text": [
      "Data in customers table:\n",
      "(3, 'Charlie Lee', 'Asia', 15000.0, datetime.date(2024, 9, 10))\n",
      "(1, 'Alice Smith', 'North America', 13200.550000000001, datetime.date(2024, 3, 15))\n",
      "(4, 'Dana Kim', 'North America', 10450.275000000001, datetime.date(2025, 1, 5))\n",
      "(5, 'Eve Brown', 'Europe', 11000.0, datetime.date(2025, 2, 1))\n",
      "(6, 'Frank Wilson', 'Asia', 13000.75, datetime.date(2025, 3, 12))\n",
      "(7, 'Grace Chen', 'North America', 9800.5, datetime.date(2025, 4, 20))\n",
      "(8, 'Henry Patel', 'Australia', 14500.25, datetime.date(2025, 5, 1))\n"
     ]
    }
   ],
   "source": [
    " # Verify the loaded data\n",
    "cursor.execute(\"SELECT * FROM customer\")\n",
    "rows = cursor.fetchall()\n",
    "print(\"Data in customers table:\")\n",
    "for row in rows:\n",
    "    print(row)\n"
   ]
  },
  {
   "cell_type": "code",
   "execution_count": 34,
   "id": "2829606a",
   "metadata": {},
   "outputs": [
    {
     "name": "stdout",
     "output_type": "stream",
     "text": [
      "Connection closed.\n"
     ]
    }
   ],
   "source": [
    "cursor.close()\n",
    "conn.close()\n",
    "print(\"Connection closed.\")"
   ]
  },
  {
   "cell_type": "code",
   "execution_count": null,
   "id": "3ea5dc0c",
   "metadata": {},
   "outputs": [],
   "source": []
  }
 ],
 "metadata": {
  "kernelspec": {
   "display_name": "Python 3 (ipykernel)",
   "language": "python",
   "name": "python3"
  },
  "language_info": {
   "codemirror_mode": {
    "name": "ipython",
    "version": 3
   },
   "file_extension": ".py",
   "mimetype": "text/x-python",
   "name": "python",
   "nbconvert_exporter": "python",
   "pygments_lexer": "ipython3",
   "version": "3.11.5"
  }
 },
 "nbformat": 4,
 "nbformat_minor": 5
}
